{
 "cells": [
  {
   "cell_type": "code",
   "execution_count": null,
   "id": "c88df268",
   "metadata": {},
   "outputs": [],
   "source": []
  },
  {
   "cell_type": "code",
   "execution_count": null,
   "id": "b69c6408",
   "metadata": {},
   "outputs": [],
   "source": []
  },
  {
   "cell_type": "code",
   "execution_count": 49,
   "id": "3dcfd526",
   "metadata": {},
   "outputs": [],
   "source": [
    "s=\"[()]\""
   ]
  },
  {
   "cell_type": "code",
   "execution_count": 50,
   "id": "02e0ae99",
   "metadata": {},
   "outputs": [],
   "source": [
    "class Solution:\n",
    "    def isValid(self, s: str) -> bool:\n",
    "        Map = {\")\":\"(\", \"]\": \"[\", \"}\":\"{\"}\n",
    "        stack = []\n",
    "\n",
    "        for i in s:\n",
    "            if i not in Map:\n",
    "                stack.append(i)\n",
    "                continue\n",
    "            if not stack or stack[-1] != Map[i]:\n",
    "                return False\n",
    "            stack.pop()\n",
    "        return not stack"
   ]
  },
  {
   "cell_type": "code",
   "execution_count": 54,
   "id": "360ae41c",
   "metadata": {},
   "outputs": [],
   "source": [
    "a=Solution()"
   ]
  },
  {
   "cell_type": "code",
   "execution_count": 56,
   "id": "52b32526",
   "metadata": {},
   "outputs": [
    {
     "data": {
      "text/plain": [
       "True"
      ]
     },
     "execution_count": 56,
     "metadata": {},
     "output_type": "execute_result"
    }
   ],
   "source": [
    "a.isValid(s)"
   ]
  },
  {
   "cell_type": "code",
   "execution_count": null,
   "id": "a9426ed3",
   "metadata": {},
   "outputs": [],
   "source": []
  }
 ],
 "metadata": {
  "kernelspec": {
   "display_name": "Python 3 (ipykernel)",
   "language": "python",
   "name": "python3"
  },
  "language_info": {
   "codemirror_mode": {
    "name": "ipython",
    "version": 3
   },
   "file_extension": ".py",
   "mimetype": "text/x-python",
   "name": "python",
   "nbconvert_exporter": "python",
   "pygments_lexer": "ipython3",
   "version": "3.9.7"
  }
 },
 "nbformat": 4,
 "nbformat_minor": 5
}
