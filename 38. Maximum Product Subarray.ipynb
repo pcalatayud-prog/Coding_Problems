{
 "cells": [
  {
   "cell_type": "code",
   "execution_count": 27,
   "id": "cab23517",
   "metadata": {},
   "outputs": [],
   "source": [
    "nums1 = [2,3,-2,4]"
   ]
  },
  {
   "cell_type": "code",
   "execution_count": 28,
   "id": "84946b39",
   "metadata": {},
   "outputs": [],
   "source": [
    "nums2 = [-2,0,-1]"
   ]
  },
  {
   "cell_type": "code",
   "execution_count": 38,
   "id": "6f483a11",
   "metadata": {},
   "outputs": [],
   "source": [
    "nums3 = [2,3,-2,4,-2,0,-1]"
   ]
  },
  {
   "cell_type": "code",
   "execution_count": 39,
   "id": "12b85bcc",
   "metadata": {},
   "outputs": [],
   "source": [
    "def maximum(nums):\n",
    "    maximo=min(nums)\n",
    "    \n",
    "    for i in range(0,len(nums)):\n",
    "        count=nums[i]\n",
    "        if count>maximo:\n",
    "            maximo=count\n",
    "            a=[]\n",
    "            a=[i,i]\n",
    "        for j in range(i+1,len(nums)):\n",
    "            count=count*nums[j]\n",
    "            if count>maximo:\n",
    "                maximo=count\n",
    "                a=[]\n",
    "                a=[i,j]\n",
    "    return(count,a)"
   ]
  },
  {
   "cell_type": "code",
   "execution_count": 40,
   "id": "47dfb92e",
   "metadata": {},
   "outputs": [
    {
     "name": "stdout",
     "output_type": "stream",
     "text": [
      "(4, [0, 1])\n",
      "(-1, [0, 1])\n",
      "(-1, [0, 4])\n"
     ]
    }
   ],
   "source": [
    "print(maximum(nums1))\n",
    "print(maximum(nums2))\n",
    "print(maximum(nums3))"
   ]
  },
  {
   "cell_type": "code",
   "execution_count": 18,
   "id": "474aff5a",
   "metadata": {},
   "outputs": [],
   "source": [
    "a=[]\n",
    "a=[1,2]"
   ]
  },
  {
   "cell_type": "code",
   "execution_count": null,
   "id": "eb623039",
   "metadata": {},
   "outputs": [],
   "source": []
  }
 ],
 "metadata": {
  "kernelspec": {
   "display_name": "Python 3 (ipykernel)",
   "language": "python",
   "name": "python3"
  },
  "language_info": {
   "codemirror_mode": {
    "name": "ipython",
    "version": 3
   },
   "file_extension": ".py",
   "mimetype": "text/x-python",
   "name": "python",
   "nbconvert_exporter": "python",
   "pygments_lexer": "ipython3",
   "version": "3.9.7"
  }
 },
 "nbformat": 4,
 "nbformat_minor": 5
}
