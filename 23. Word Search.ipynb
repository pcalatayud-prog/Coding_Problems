{
 "cells": [
  {
   "cell_type": "code",
   "execution_count": null,
   "id": "d790278a",
   "metadata": {},
   "outputs": [],
   "source": []
  },
  {
   "cell_type": "code",
   "execution_count": null,
   "id": "d102d0c1",
   "metadata": {},
   "outputs": [],
   "source": []
  },
  {
   "cell_type": "code",
   "execution_count": null,
   "id": "a6461579",
   "metadata": {},
   "outputs": [],
   "source": []
  },
  {
   "cell_type": "code",
   "execution_count": 1,
   "id": "2b3a57c6",
   "metadata": {},
   "outputs": [],
   "source": [
    "board = [[\"A\",\"B\",\"C\",\"E\"],[\"S\",\"F\",\"C\",\"S\"],[\"A\",\"D\",\"E\",\"E\"]]"
   ]
  },
  {
   "cell_type": "code",
   "execution_count": 2,
   "id": "1784a768",
   "metadata": {},
   "outputs": [],
   "source": [
    "word = \"ABCCED\""
   ]
  },
  {
   "cell_type": "code",
   "execution_count": null,
   "id": "d20bab7d",
   "metadata": {},
   "outputs": [],
   "source": []
  },
  {
   "cell_type": "code",
   "execution_count": 24,
   "id": "23ee4aff",
   "metadata": {},
   "outputs": [],
   "source": [
    "board = [[\"A\",\"B\",\"C\",\"E\"],[\"S\",\"F\",\"C\",\"S\"],[\"A\",\"D\",\"E\",\"E\"]]"
   ]
  },
  {
   "cell_type": "code",
   "execution_count": 25,
   "id": "636b894b",
   "metadata": {},
   "outputs": [],
   "source": [
    "word = \"SEE\""
   ]
  },
  {
   "cell_type": "code",
   "execution_count": null,
   "id": "a74e3939",
   "metadata": {},
   "outputs": [],
   "source": []
  },
  {
   "cell_type": "code",
   "execution_count": null,
   "id": "8ec29cc5",
   "metadata": {},
   "outputs": [],
   "source": [
    "board = [[\"A\",\"B\",\"C\",\"E\"],[\"S\",\"F\",\"C\",\"S\"],[\"A\",\"D\",\"E\",\"E\"]]"
   ]
  },
  {
   "cell_type": "code",
   "execution_count": null,
   "id": "0ac93598",
   "metadata": {},
   "outputs": [],
   "source": [
    "word = \"ABCB\""
   ]
  },
  {
   "cell_type": "code",
   "execution_count": null,
   "id": "0bb3b67a",
   "metadata": {},
   "outputs": [],
   "source": []
  },
  {
   "cell_type": "code",
   "execution_count": 26,
   "id": "bcb39e91",
   "metadata": {},
   "outputs": [],
   "source": [
    "flat_intervals = [item for sublist in board for item in sublist]"
   ]
  },
  {
   "cell_type": "code",
   "execution_count": 27,
   "id": "bbec309b",
   "metadata": {},
   "outputs": [
    {
     "data": {
      "text/plain": [
       "['A', 'B', 'C', 'E', 'S', 'F', 'C', 'S', 'A', 'D', 'E', 'E']"
      ]
     },
     "execution_count": 27,
     "metadata": {},
     "output_type": "execute_result"
    }
   ],
   "source": [
    "flat_intervals"
   ]
  },
  {
   "cell_type": "code",
   "execution_count": 19,
   "id": "dfb2e7bb",
   "metadata": {},
   "outputs": [
    {
     "data": {
      "text/plain": [
       "'AABCCDEEEFSS'"
      ]
     },
     "execution_count": 19,
     "metadata": {},
     "output_type": "execute_result"
    }
   ],
   "source": [
    "flat_intervals = sorted(flat_intervals)\n",
    "flat_intervals = ''.join(str(x) for x in flat_intervals)\n",
    "flat_intervals"
   ]
  },
  {
   "cell_type": "code",
   "execution_count": 20,
   "id": "730321ef",
   "metadata": {},
   "outputs": [
    {
     "data": {
      "text/plain": [
       "'EES'"
      ]
     },
     "execution_count": 20,
     "metadata": {},
     "output_type": "execute_result"
    }
   ],
   "source": [
    "word = sorted(word)\n",
    "word = ''.join(str(x) for x in word)\n",
    "word"
   ]
  },
  {
   "cell_type": "code",
   "execution_count": 21,
   "id": "f1932182",
   "metadata": {},
   "outputs": [
    {
     "data": {
      "text/plain": [
       "False"
      ]
     },
     "execution_count": 21,
     "metadata": {},
     "output_type": "execute_result"
    }
   ],
   "source": [
    "def test(flat_intervals,word):\n",
    "    \n",
    "    \n",
    "    "
   ]
  },
  {
   "cell_type": "code",
   "execution_count": 38,
   "id": "f8b46da2",
   "metadata": {},
   "outputs": [],
   "source": [
    "board = [[\"A\",\"B\",\"C\",\"E\"],[\"S\",\"F\",\"C\",\"S\"],[\"A\",\"D\",\"E\",\"E\"]]\n",
    "word = \"ABCCED\""
   ]
  },
  {
   "cell_type": "code",
   "execution_count": null,
   "id": "bd526216",
   "metadata": {},
   "outputs": [],
   "source": []
  },
  {
   "cell_type": "code",
   "execution_count": 41,
   "id": "fc18e5fa",
   "metadata": {},
   "outputs": [],
   "source": [
    "board = [[\"A\",\"B\",\"C\",\"E\"],[\"S\",\"F\",\"C\",\"S\"],[\"A\",\"D\",\"E\",\"E\"]]\n",
    "word = \"SEE\""
   ]
  },
  {
   "cell_type": "code",
   "execution_count": null,
   "id": "55e2455d",
   "metadata": {},
   "outputs": [],
   "source": []
  },
  {
   "cell_type": "code",
   "execution_count": 44,
   "id": "84556b6b",
   "metadata": {},
   "outputs": [],
   "source": [
    "board = [[\"A\",\"B\",\"C\",\"E\"],[\"S\",\"F\",\"C\",\"S\"],[\"A\",\"D\",\"E\",\"E\"]]\n",
    "word = \"ABCB\"\n"
   ]
  },
  {
   "cell_type": "code",
   "execution_count": null,
   "id": "4a4d63c7",
   "metadata": {},
   "outputs": [],
   "source": []
  },
  {
   "cell_type": "code",
   "execution_count": null,
   "id": "fd166676",
   "metadata": {},
   "outputs": [],
   "source": []
  },
  {
   "cell_type": "code",
   "execution_count": 45,
   "id": "3b42e1c5",
   "metadata": {},
   "outputs": [
    {
     "name": "stdout",
     "output_type": "stream",
     "text": [
      "['A', 'B', 'C', 'E', 'S', 'F', 'C', 'S', 'A', 'D', 'E', 'E']\n",
      "ABBC\n"
     ]
    }
   ],
   "source": [
    "\n",
    "board = [item for sublist in board for item in sublist]\n",
    "print(board)\n",
    "\n",
    "word = sorted(word)\n",
    "word = ''.join(str(x) for x in word)\n",
    "print(word)"
   ]
  },
  {
   "cell_type": "code",
   "execution_count": 46,
   "id": "0cfe87ee",
   "metadata": {},
   "outputs": [
    {
     "name": "stdout",
     "output_type": "stream",
     "text": [
      "False\n"
     ]
    }
   ],
   "source": [
    "code=True\n",
    "for i in range(0,len(word)):\n",
    "    #print(i)\n",
    "    #print()\n",
    "    if word[i] in board:\n",
    "        board.remove(word[i])\n",
    "    else:\n",
    "        code=False\n",
    "print(code)"
   ]
  },
  {
   "cell_type": "code",
   "execution_count": null,
   "id": "c38b3bce",
   "metadata": {},
   "outputs": [],
   "source": []
  },
  {
   "cell_type": "code",
   "execution_count": null,
   "id": "a3809f64",
   "metadata": {},
   "outputs": [],
   "source": []
  },
  {
   "cell_type": "code",
   "execution_count": null,
   "id": "4d082403",
   "metadata": {},
   "outputs": [],
   "source": []
  }
 ],
 "metadata": {
  "kernelspec": {
   "display_name": "Python 3 (ipykernel)",
   "language": "python",
   "name": "python3"
  },
  "language_info": {
   "codemirror_mode": {
    "name": "ipython",
    "version": 3
   },
   "file_extension": ".py",
   "mimetype": "text/x-python",
   "name": "python",
   "nbconvert_exporter": "python",
   "pygments_lexer": "ipython3",
   "version": "3.9.7"
  }
 },
 "nbformat": 4,
 "nbformat_minor": 5
}
