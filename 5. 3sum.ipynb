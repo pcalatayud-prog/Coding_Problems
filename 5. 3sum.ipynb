{
 "cells": [
  {
   "cell_type": "code",
   "execution_count": 8,
   "id": "07e23c40",
   "metadata": {},
   "outputs": [],
   "source": [
    "import itertools"
   ]
  },
  {
   "cell_type": "code",
   "execution_count": null,
   "id": "5890d2e9",
   "metadata": {},
   "outputs": [],
   "source": [
    "# import itertools\n",
    "class Solution:\n",
    "    def threeSum(self, nums: List[int]) -> List[List[int]]:\n",
    "        #comb = list(itertools.combinations(nums,3))\n",
    "        list_0=[]\n",
    "        nums.sort()\n",
    "        k=len(nums)-1\n",
    "        for i in range(0,k-1):\n",
    "            if nums[i]>0:\n",
    "                continue\n",
    "            \n",
    "            k=len(nums)-1\n",
    "            j=i+1\n",
    "            while j<k:\n",
    "                suma = nums[i]+nums[j]+nums[k]\n",
    "                if suma==0: #add list\n",
    "                    lista=sorted([nums[i],nums[j],nums[k]])\n",
    "                    if lista not in list_0:\n",
    "                        list_0.append(lista)\n",
    "                    k=k-1\n",
    "                elif suma>0:\n",
    "                    k=k-1\n",
    "                else:\n",
    "                    j=j+1\n",
    "                \n",
    "        return(list_0)"
   ]
  }
 ],
 "metadata": {
  "kernelspec": {
   "display_name": "Python 3 (ipykernel)",
   "language": "python",
   "name": "python3"
  },
  "language_info": {
   "codemirror_mode": {
    "name": "ipython",
    "version": 3
   },
   "file_extension": ".py",
   "mimetype": "text/x-python",
   "name": "python",
   "nbconvert_exporter": "python",
   "pygments_lexer": "ipython3",
   "version": "3.9.7"
  }
 },
 "nbformat": 4,
 "nbformat_minor": 5
}
