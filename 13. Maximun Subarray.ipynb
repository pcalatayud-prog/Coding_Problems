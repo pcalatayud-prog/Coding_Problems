{
 "cells": [
  {
   "cell_type": "code",
   "execution_count": null,
   "id": "97948294",
   "metadata": {},
   "outputs": [],
   "source": []
  },
  {
   "cell_type": "code",
   "execution_count": 9,
   "id": "4a67ba77",
   "metadata": {},
   "outputs": [],
   "source": [
    "nums = [-2,1,-3,4,-1,2,1,-5,4]"
   ]
  },
  {
   "cell_type": "code",
   "execution_count": 5,
   "id": "23c5b04f",
   "metadata": {},
   "outputs": [
    {
     "name": "stdout",
     "output_type": "stream",
     "text": [
      "6\n"
     ]
    }
   ],
   "source": [
    "maximo=nums[0]\n",
    "\n",
    "n=len(nums)\n",
    "\n",
    "for i in range(0,n):\n",
    "\n",
    "    for j in range(i+1,n+1):\n",
    "\n",
    "        candidate=sum(nums[i:j])\n",
    "        \n",
    "        if candidate>maximo:\n",
    "            maximo=candidate\n",
    "\n",
    "print(maximo)"
   ]
  },
  {
   "cell_type": "code",
   "execution_count": 11,
   "id": "cda3f2c5",
   "metadata": {},
   "outputs": [
    {
     "name": "stdout",
     "output_type": "stream",
     "text": [
      "6\n"
     ]
    }
   ],
   "source": [
    "maxSub = nums[0]\n",
    "curSum = 0\n",
    "\n",
    "for n in nums:\n",
    "    if curSum < 0:\n",
    "        curSum = 0\n",
    "    curSum += n\n",
    "    maxSub = max(maxSub, curSum)\n",
    "print(maxSub)"
   ]
  },
  {
   "cell_type": "code",
   "execution_count": null,
   "id": "845ecbc4",
   "metadata": {},
   "outputs": [],
   "source": []
  }
 ],
 "metadata": {
  "kernelspec": {
   "display_name": "Python 3 (ipykernel)",
   "language": "python",
   "name": "python3"
  },
  "language_info": {
   "codemirror_mode": {
    "name": "ipython",
    "version": 3
   },
   "file_extension": ".py",
   "mimetype": "text/x-python",
   "name": "python",
   "nbconvert_exporter": "python",
   "pygments_lexer": "ipython3",
   "version": "3.9.7"
  }
 },
 "nbformat": 4,
 "nbformat_minor": 5
}
