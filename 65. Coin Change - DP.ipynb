{
 "cells": [
  {
   "cell_type": "code",
   "execution_count": 19,
   "id": "084134e7",
   "metadata": {},
   "outputs": [],
   "source": [
    "coins = [1,2,5]\n",
    "amount = 11"
   ]
  },
  {
   "cell_type": "code",
   "execution_count": null,
   "id": "ed6e3256",
   "metadata": {},
   "outputs": [],
   "source": [
    "coins = [2]\n",
    "amount = 3"
   ]
  },
  {
   "cell_type": "code",
   "execution_count": null,
   "id": "a5e4b607",
   "metadata": {},
   "outputs": [],
   "source": [
    "coins = [1]\n",
    "amount = 0"
   ]
  },
  {
   "cell_type": "code",
   "execution_count": 13,
   "id": "ff9e2ddb",
   "metadata": {},
   "outputs": [],
   "source": [
    "import itertools"
   ]
  },
  {
   "cell_type": "code",
   "execution_count": 32,
   "id": "83080ec5",
   "metadata": {},
   "outputs": [],
   "source": [
    "minimus=int(amount/min(coins))"
   ]
  },
  {
   "cell_type": "code",
   "execution_count": 33,
   "id": "916f8b89",
   "metadata": {},
   "outputs": [],
   "source": [
    "maximus=int(amount/max(coins))+1"
   ]
  },
  {
   "cell_type": "code",
   "execution_count": 43,
   "id": "8afd7f9d",
   "metadata": {},
   "outputs": [],
   "source": [
    "coins = [1]\n",
    "amount = 1"
   ]
  },
  {
   "cell_type": "code",
   "execution_count": null,
   "id": "fc99a605",
   "metadata": {},
   "outputs": [],
   "source": []
  },
  {
   "cell_type": "code",
   "execution_count": 54,
   "id": "e7081df7",
   "metadata": {},
   "outputs": [
    {
     "name": "stdout",
     "output_type": "stream",
     "text": [
      "1 2\n",
      "-1\n"
     ]
    }
   ],
   "source": [
    "minimus=int(amount/min(coins))\n",
    "maximus=int(amount/max(coins))+1\n",
    "print(minimus,maximus)\n",
    "\n",
    "a=list(itertools.combinations_with_replacement(coins,minimus))\n",
    "\n",
    "long=-1\n",
    "for i in range(maximus,minimus+1):\n",
    "    a=list(itertools.combinations_with_replacement(coins,i))\n",
    "    \n",
    "    for j in a:\n",
    "        \n",
    "        #print(i)\n",
    "        print(sum(j))\n",
    "        #print(amount)\n",
    "        if sum(j)==amount:\n",
    "            long=len(j)\n",
    "            break\n",
    "    if long>1:\n",
    "        break\n",
    "print(long)"
   ]
  },
  {
   "cell_type": "code",
   "execution_count": 49,
   "id": "4e0356b6",
   "metadata": {},
   "outputs": [
    {
     "data": {
      "text/plain": [
       "1"
      ]
     },
     "execution_count": 49,
     "metadata": {},
     "output_type": "execute_result"
    }
   ],
   "source": [
    "sum(a[0])"
   ]
  },
  {
   "cell_type": "code",
   "execution_count": 52,
   "id": "3aaf0fd2",
   "metadata": {},
   "outputs": [
    {
     "name": "stdout",
     "output_type": "stream",
     "text": [
      "(1,)\n",
      "1\n"
     ]
    }
   ],
   "source": [
    "for j in a:\n",
    "    print(j)\n",
    "    print(sum(j))"
   ]
  },
  {
   "cell_type": "code",
   "execution_count": 55,
   "id": "4a5fb5e1",
   "metadata": {},
   "outputs": [
    {
     "data": {
      "text/plain": [
       "1"
      ]
     },
     "execution_count": 55,
     "metadata": {},
     "output_type": "execute_result"
    }
   ],
   "source": [
    "1%2"
   ]
  },
  {
   "cell_type": "code",
   "execution_count": 56,
   "id": "6d18d90b",
   "metadata": {},
   "outputs": [
    {
     "data": {
      "text/plain": [
       "0"
      ]
     },
     "execution_count": 56,
     "metadata": {},
     "output_type": "execute_result"
    }
   ],
   "source": [
    "2%1"
   ]
  },
  {
   "cell_type": "code",
   "execution_count": 57,
   "id": "edfa2632",
   "metadata": {},
   "outputs": [
    {
     "ename": "ZeroDivisionError",
     "evalue": "integer division or modulo by zero",
     "output_type": "error",
     "traceback": [
      "\u001b[1;31m---------------------------------------------------------------------------\u001b[0m",
      "\u001b[1;31mZeroDivisionError\u001b[0m                         Traceback (most recent call last)",
      "\u001b[1;32mC:\\Users\\PCALAT~1\\AppData\\Local\\Temp/ipykernel_37036/4210605075.py\u001b[0m in \u001b[0;36m<module>\u001b[1;34m\u001b[0m\n\u001b[1;32m----> 1\u001b[1;33m \u001b[1;36m1\u001b[0m\u001b[1;33m%\u001b[0m\u001b[1;36m0\u001b[0m\u001b[1;33m\u001b[0m\u001b[1;33m\u001b[0m\u001b[0m\n\u001b[0m",
      "\u001b[1;31mZeroDivisionError\u001b[0m: integer division or modulo by zero"
     ]
    }
   ],
   "source": [
    "1%0"
   ]
  },
  {
   "cell_type": "code",
   "execution_count": null,
   "id": "03b1c4ed",
   "metadata": {},
   "outputs": [],
   "source": []
  },
  {
   "cell_type": "code",
   "execution_count": null,
   "id": "7af582c1",
   "metadata": {},
   "outputs": [],
   "source": []
  },
  {
   "cell_type": "code",
   "execution_count": null,
   "id": "e25e986c",
   "metadata": {},
   "outputs": [],
   "source": []
  },
  {
   "cell_type": "code",
   "execution_count": null,
   "id": "10f387f5",
   "metadata": {},
   "outputs": [],
   "source": []
  },
  {
   "cell_type": "code",
   "execution_count": 58,
   "id": "9f10ec08",
   "metadata": {},
   "outputs": [
    {
     "data": {
      "text/plain": [
       "119"
      ]
     },
     "execution_count": 58,
     "metadata": {},
     "output_type": "execute_result"
    }
   ],
   "source": [
    "8839%436"
   ]
  },
  {
   "cell_type": "code",
   "execution_count": 59,
   "id": "00d90512",
   "metadata": {},
   "outputs": [
    {
     "data": {
      "text/plain": [
       "0"
      ]
     },
     "execution_count": 59,
     "metadata": {},
     "output_type": "execute_result"
    }
   ],
   "source": [
    "119%7"
   ]
  },
  {
   "cell_type": "code",
   "execution_count": null,
   "id": "08691963",
   "metadata": {},
   "outputs": [],
   "source": []
  },
  {
   "cell_type": "code",
   "execution_count": null,
   "id": "ac9ac28d",
   "metadata": {},
   "outputs": [],
   "source": []
  },
  {
   "cell_type": "code",
   "execution_count": null,
   "id": "f7640a30",
   "metadata": {},
   "outputs": [],
   "source": []
  },
  {
   "cell_type": "code",
   "execution_count": null,
   "id": "b9f46f2c",
   "metadata": {},
   "outputs": [],
   "source": []
  },
  {
   "cell_type": "code",
   "execution_count": 60,
   "id": "1250a924",
   "metadata": {},
   "outputs": [],
   "source": [
    "coins = [1,2,5]\n",
    "amount = 11"
   ]
  },
  {
   "cell_type": "code",
   "execution_count": null,
   "id": "3d8374a8",
   "metadata": {},
   "outputs": [],
   "source": []
  },
  {
   "cell_type": "code",
   "execution_count": 64,
   "id": "49e56227",
   "metadata": {},
   "outputs": [
    {
     "data": {
      "text/plain": [
       "[5, 2, 1]"
      ]
     },
     "execution_count": 64,
     "metadata": {},
     "output_type": "execute_result"
    }
   ],
   "source": [
    "coins.sort(reverse=True)\n",
    "coins"
   ]
  },
  {
   "cell_type": "code",
   "execution_count": null,
   "id": "17697967",
   "metadata": {},
   "outputs": [],
   "source": [
    "value=amount\n",
    "i=0\n",
    "coins=0\n",
    "while value>0:\n",
    "    \n",
    "    \n",
    "    "
   ]
  },
  {
   "cell_type": "code",
   "execution_count": null,
   "id": "452433a0",
   "metadata": {},
   "outputs": [],
   "source": []
  }
 ],
 "metadata": {
  "kernelspec": {
   "display_name": "Python 3 (ipykernel)",
   "language": "python",
   "name": "python3"
  },
  "language_info": {
   "codemirror_mode": {
    "name": "ipython",
    "version": 3
   },
   "file_extension": ".py",
   "mimetype": "text/x-python",
   "name": "python",
   "nbconvert_exporter": "python",
   "pygments_lexer": "ipython3",
   "version": "3.9.7"
  }
 },
 "nbformat": 4,
 "nbformat_minor": 5
}
