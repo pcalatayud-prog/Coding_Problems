{
 "cells": [
  {
   "cell_type": "code",
   "execution_count": 6,
   "id": "5e570001",
   "metadata": {},
   "outputs": [
    {
     "name": "stdout",
     "output_type": "stream",
     "text": [
      "49\n"
     ]
    }
   ],
   "source": [
    "class Solution:\n",
    "    def maxArea(self, height: List[int]) -> int:\n",
    "        maxi=0\n",
    "        l=0\n",
    "        r=len(height)-1\n",
    "        \n",
    "        while l<r and l<len(height) and r>0:\n",
    "            \n",
    "            width=r-l\n",
    "            print(l)\n",
    "            print(r)\n",
    "            \n",
    "            area=width*min(height[l],height[r])\n",
    "            \n",
    "            if area>maxi:\n",
    "                maxi=area\n",
    "                \n",
    "            if height[l]>height[r]:\n",
    "                r=r-1\n",
    "            else:\n",
    "                l=l+1\n",
    "                \n",
    "        return(maxi)"
   ]
  },
  {
   "cell_type": "code",
   "execution_count": null,
   "id": "e0895732",
   "metadata": {},
   "outputs": [],
   "source": [
    "# Misma filosofia de ahorrarnos el segundo loop"
   ]
  },
  {
   "cell_type": "code",
   "execution_count": null,
   "id": "63777c94",
   "metadata": {},
   "outputs": [],
   "source": []
  },
  {
   "cell_type": "code",
   "execution_count": null,
   "id": "402c8da3",
   "metadata": {},
   "outputs": [],
   "source": []
  }
 ],
 "metadata": {
  "kernelspec": {
   "display_name": "Python 3 (ipykernel)",
   "language": "python",
   "name": "python3"
  },
  "language_info": {
   "codemirror_mode": {
    "name": "ipython",
    "version": 3
   },
   "file_extension": ".py",
   "mimetype": "text/x-python",
   "name": "python",
   "nbconvert_exporter": "python",
   "pygments_lexer": "ipython3",
   "version": "3.9.7"
  }
 },
 "nbformat": 4,
 "nbformat_minor": 5
}
