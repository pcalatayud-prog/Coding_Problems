{
 "cells": [
  {
   "cell_type": "code",
   "execution_count": 45,
   "id": "1ffb07c2",
   "metadata": {},
   "outputs": [],
   "source": [
    "nums1 = [4,5,6,7,0,1,2]"
   ]
  },
  {
   "cell_type": "code",
   "execution_count": 46,
   "id": "c3c45b94",
   "metadata": {},
   "outputs": [],
   "source": [
    "nums2 = [3,4,5,1,2]"
   ]
  },
  {
   "cell_type": "code",
   "execution_count": 47,
   "id": "cb2be931",
   "metadata": {},
   "outputs": [],
   "source": [
    "nums3 = [4,5,6,7,0,1,2]"
   ]
  },
  {
   "cell_type": "code",
   "execution_count": 48,
   "id": "1ecf6336",
   "metadata": {},
   "outputs": [],
   "source": [
    "nums4 = [11,13,15,17]"
   ]
  },
  {
   "cell_type": "code",
   "execution_count": 49,
   "id": "f5b712d8",
   "metadata": {},
   "outputs": [],
   "source": [
    "def findMin(nums):\n",
    "\n",
    "    minimum=nums[0]\n",
    "\n",
    "    for j in nums:\n",
    "        if minimum>j:\n",
    "            minimum=j\n",
    "\n",
    "\n",
    "    return(minimum)"
   ]
  },
  {
   "cell_type": "code",
   "execution_count": 51,
   "id": "37f22012",
   "metadata": {},
   "outputs": [
    {
     "name": "stdout",
     "output_type": "stream",
     "text": [
      "0\n",
      "1\n",
      "0\n",
      "11\n"
     ]
    }
   ],
   "source": [
    "print(findMin(nums1))\n",
    "print(findMin(nums2))\n",
    "print(findMin(nums3))\n",
    "print(findMin(nums4))"
   ]
  },
  {
   "cell_type": "code",
   "execution_count": null,
   "id": "c8250fc3",
   "metadata": {},
   "outputs": [],
   "source": []
  }
 ],
 "metadata": {
  "kernelspec": {
   "display_name": "Python 3 (ipykernel)",
   "language": "python",
   "name": "python3"
  },
  "language_info": {
   "codemirror_mode": {
    "name": "ipython",
    "version": 3
   },
   "file_extension": ".py",
   "mimetype": "text/x-python",
   "name": "python",
   "nbconvert_exporter": "python",
   "pygments_lexer": "ipython3",
   "version": "3.9.7"
  }
 },
 "nbformat": 4,
 "nbformat_minor": 5
}
