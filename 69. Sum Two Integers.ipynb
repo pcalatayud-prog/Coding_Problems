{
 "cells": [
  {
   "cell_type": "code",
   "execution_count": null,
   "id": "57ad8cd8",
   "metadata": {},
   "outputs": [],
   "source": []
  },
  {
   "cell_type": "code",
   "execution_count": null,
   "id": "47bcba8f",
   "metadata": {},
   "outputs": [],
   "source": []
  },
  {
   "cell_type": "code",
   "execution_count": null,
   "id": "280a0b13",
   "metadata": {},
   "outputs": [],
   "source": []
  },
  {
   "cell_type": "code",
   "execution_count": 90,
   "id": "5d4525bb",
   "metadata": {},
   "outputs": [],
   "source": [
    "a=-1\n",
    "b=1"
   ]
  },
  {
   "cell_type": "code",
   "execution_count": 91,
   "id": "bad0a195",
   "metadata": {},
   "outputs": [
    {
     "name": "stdout",
     "output_type": "stream",
     "text": [
      "sign -1\n",
      "3_1\n",
      "3_2\n",
      "0\n"
     ]
    }
   ],
   "source": [
    "minimus=min(a,b)\n",
    "maximus=max(a,b)\n",
    "sign=minimus*maximus\n",
    "print(\"sign\",sign)\n",
    "lista=[]\n",
    "signo=1\n",
    "if sign>0: # both positive or both negative\n",
    "    if minimus>0:\n",
    "        for i in range(maximus):\n",
    "            lista.append(i)\n",
    "            print(\"1_1\")\n",
    "        for j in range(minimus):\n",
    "            lista.append(j)\n",
    "            print(\"1_2\")\n",
    "    else:\n",
    "        for i in range(maximus,0):\n",
    "            lista.append(i)\n",
    "            print(\"2_1\")            \n",
    "        for j in range(minimus,0):\n",
    "            lista.append(j)\n",
    "            signo=-1\n",
    "            print(\"2_2\")\n",
    "elif sign<0: # minimus is negative and maximus is positive\n",
    "    if abs(minimus)>=maximus:\n",
    "        for i in range(minimus,0):\n",
    "            lista.append(i)\n",
    "            print(\"3_1\")\n",
    "        for j in range(maximus):\n",
    "            lista.pop(j)\n",
    "            signo=-1\n",
    "            print(\"3_2\")\n",
    "    else:\n",
    "        for i in range(maximus):\n",
    "            lista.append(i)\n",
    "            print(\"4_1\")\n",
    "        for j in range(minimus,0):\n",
    "            lista.pop(j)\n",
    "            print(\"4_2\")\n",
    "else: #there is at least 1 zero\n",
    "    if minimus==0: # maximus>=0\n",
    "        for i in range(maximus):\n",
    "            lista.append(i)\n",
    "            print(\"5_1\")\n",
    "    else: #maximus=0, minimus<0\n",
    "        for j in range(minimus,0):\n",
    "            lista.append(j) \n",
    "            signo=-1\n",
    "            print(\"5_2\")\n",
    "        \n",
    "    \n",
    "    \n",
    "print(len(lista)*signo)"
   ]
  },
  {
   "cell_type": "code",
   "execution_count": 89,
   "id": "af1e9866",
   "metadata": {},
   "outputs": [
    {
     "data": {
      "text/plain": [
       "1"
      ]
     },
     "execution_count": 89,
     "metadata": {},
     "output_type": "execute_result"
    }
   ],
   "source": [
    "abs(maximus)"
   ]
  },
  {
   "cell_type": "code",
   "execution_count": 76,
   "id": "000f0b06",
   "metadata": {},
   "outputs": [],
   "source": [
    "lista=[]"
   ]
  },
  {
   "cell_type": "code",
   "execution_count": null,
   "id": "fd625860",
   "metadata": {},
   "outputs": [],
   "source": []
  },
  {
   "cell_type": "code",
   "execution_count": null,
   "id": "eb834dc1",
   "metadata": {},
   "outputs": [],
   "source": []
  },
  {
   "cell_type": "code",
   "execution_count": 77,
   "id": "446ef293",
   "metadata": {},
   "outputs": [],
   "source": [
    "maximus=1\n",
    "minimus=-1"
   ]
  },
  {
   "cell_type": "code",
   "execution_count": 78,
   "id": "916b8e74",
   "metadata": {},
   "outputs": [],
   "source": [
    "for i in range(maximus):\n",
    "    lista.append(i)\n",
    "for j in range(minimus,0):\n",
    "    lista.pop(j) "
   ]
  },
  {
   "cell_type": "code",
   "execution_count": 79,
   "id": "b64a889b",
   "metadata": {},
   "outputs": [
    {
     "data": {
      "text/plain": [
       "[]"
      ]
     },
     "execution_count": 79,
     "metadata": {},
     "output_type": "execute_result"
    }
   ],
   "source": [
    "lista"
   ]
  },
  {
   "cell_type": "code",
   "execution_count": 80,
   "id": "307d99c3",
   "metadata": {},
   "outputs": [
    {
     "data": {
      "text/plain": [
       "0"
      ]
     },
     "execution_count": 80,
     "metadata": {},
     "output_type": "execute_result"
    }
   ],
   "source": [
    "len(lista)"
   ]
  },
  {
   "cell_type": "code",
   "execution_count": null,
   "id": "0b84200d",
   "metadata": {},
   "outputs": [],
   "source": []
  }
 ],
 "metadata": {
  "kernelspec": {
   "display_name": "Python 3 (ipykernel)",
   "language": "python",
   "name": "python3"
  },
  "language_info": {
   "codemirror_mode": {
    "name": "ipython",
    "version": 3
   },
   "file_extension": ".py",
   "mimetype": "text/x-python",
   "name": "python",
   "nbconvert_exporter": "python",
   "pygments_lexer": "ipython3",
   "version": "3.9.7"
  }
 },
 "nbformat": 4,
 "nbformat_minor": 5
}
