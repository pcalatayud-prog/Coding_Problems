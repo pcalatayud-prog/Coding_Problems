{
 "cells": [
  {
   "cell_type": "code",
   "execution_count": null,
   "id": "d3c8551d",
   "metadata": {},
   "outputs": [],
   "source": [
    "# Given an array of distinct integers candidates and a target integer target, \n",
    "# return a list of all unique combinations of candidates where the chosen numbers sum to target. \n",
    "# You may return the combinations in any order.\n",
    "\n",
    "# The same number may be chosen from candidates an unlimited number of times. \n",
    "# Two combinations are unique if the frequency of at least one of the chosen numbers is different.\n",
    "\n",
    "# It is guaranteed that the number of unique combinations that sum up to target is less than 150 \n",
    "# combinations for the given input."
   ]
  },
  {
   "cell_type": "code",
   "execution_count": null,
   "id": "b209d534",
   "metadata": {},
   "outputs": [],
   "source": [
    "# Example 1:\n",
    "\n",
    "# Input: candidates = [2,3,6,7], target = 7\n",
    "# Output: [[2,2,3],[7]]\n",
    "# Explanation:\n",
    "# 2 and 3 are candidates, and 2 + 2 + 3 = 7. Note that 2 can be used multiple times.\n",
    "# 7 is a candidate, and 7 = 7.\n",
    "# These are the only two combinations."
   ]
  },
  {
   "cell_type": "code",
   "execution_count": null,
   "id": "c6ac9197",
   "metadata": {},
   "outputs": [],
   "source": [
    "# Example 2:\n",
    "\n",
    "# Input: candidates = [2,3,5], target = 8\n",
    "# Output: [[2,2,2,2],[2,3,3],[3,5]]"
   ]
  },
  {
   "cell_type": "code",
   "execution_count": 3,
   "id": "3b3a5227",
   "metadata": {},
   "outputs": [],
   "source": [
    "import itertools"
   ]
  },
  {
   "cell_type": "code",
   "execution_count": 28,
   "id": "d93fa6d9",
   "metadata": {},
   "outputs": [],
   "source": [
    "candidates = [2,3,6,7]\n",
    "target=8"
   ]
  },
  {
   "cell_type": "code",
   "execution_count": 34,
   "id": "3d90c104",
   "metadata": {},
   "outputs": [],
   "source": [
    "candidates = [2,3,6,7,4,6,7,1]\n",
    "target=8"
   ]
  },
  {
   "cell_type": "code",
   "execution_count": 45,
   "id": "165b0b03",
   "metadata": {},
   "outputs": [],
   "source": [
    "candidates=[2]\n",
    "target=1"
   ]
  },
  {
   "cell_type": "code",
   "execution_count": 41,
   "id": "4ca0ceb7",
   "metadata": {},
   "outputs": [],
   "source": [
    "candidates = [2,3,5]\n",
    "target=8"
   ]
  },
  {
   "cell_type": "code",
   "execution_count": 42,
   "id": "4f031aa1",
   "metadata": {},
   "outputs": [],
   "source": [
    "values=round(target/min(candidates))"
   ]
  },
  {
   "cell_type": "code",
   "execution_count": 47,
   "id": "9578e4b1",
   "metadata": {},
   "outputs": [
    {
     "name": "stdout",
     "output_type": "stream",
     "text": [
      "[(2,), (3,), (5,)]\n",
      "[(2, 2), (2, 3), (2, 5), (3, 3), (3, 5), (5, 5)]\n",
      "(5, 5)\n",
      "[(2, 2, 2), (2, 2, 3), (2, 2, 5), (2, 3, 3), (2, 3, 5), (2, 5, 5), (3, 3, 3), (3, 3, 5), (3, 5, 5), (5, 5, 5)]\n",
      "(2, 2, 5)\n",
      "[(2, 2, 2, 2), (2, 2, 2, 3), (2, 2, 2, 5), (2, 2, 3, 3), (2, 2, 3, 5), (2, 2, 5, 5), (2, 3, 3, 3), (2, 3, 3, 5), (2, 3, 5, 5), (2, 5, 5, 5), (3, 3, 3, 3), (3, 3, 3, 5), (3, 3, 5, 5), (3, 5, 5, 5), (5, 5, 5, 5)]\n",
      "(2, 2, 2, 3)\n"
     ]
    }
   ],
   "source": [
    "list_target=[]\n",
    "for n in range(1,values+1):\n",
    "    a=list(itertools.combinations_with_replacement(candidates,r=n))\n",
    "    print(a)\n",
    "    for j in a:\n",
    "        #print(j)\n",
    "        #print(list(j))\n",
    "        if sum(list(j))==target:\n",
    "            if list(j) not in list_target:\n",
    "                list_target.append(list(j))\n",
    "        elif sum(list(j))>target:\n",
    "            print(j)\n",
    "            #break"
   ]
  },
  {
   "cell_type": "code",
   "execution_count": 44,
   "id": "75fbc2bd",
   "metadata": {},
   "outputs": [
    {
     "data": {
      "text/plain": [
       "[[3, 5], [2, 2, 2, 2]]"
      ]
     },
     "execution_count": 44,
     "metadata": {},
     "output_type": "execute_result"
    }
   ],
   "source": [
    "list_target"
   ]
  },
  {
   "cell_type": "code",
   "execution_count": 52,
   "id": "987f87a3",
   "metadata": {},
   "outputs": [
    {
     "ename": "TypeError",
     "evalue": "'<' not supported between instances of 'list' and 'int'",
     "output_type": "error",
     "traceback": [
      "\u001b[1;31m---------------------------------------------------------------------------\u001b[0m",
      "\u001b[1;31mTypeError\u001b[0m                                 Traceback (most recent call last)",
      "\u001b[1;32mC:\\Users\\PCALAT~1\\AppData\\Local\\Temp/ipykernel_28216/4142904986.py\u001b[0m in \u001b[0;36m<module>\u001b[1;34m\u001b[0m\n\u001b[1;32m----> 1\u001b[1;33m \u001b[0mlist\u001b[0m\u001b[1;33m(\u001b[0m\u001b[0ma\u001b[0m\u001b[1;33m[\u001b[0m\u001b[1;36m1\u001b[0m\u001b[1;33m]\u001b[0m\u001b[1;33m)\u001b[0m\u001b[1;33m<\u001b[0m\u001b[1;36m8\u001b[0m\u001b[1;33m\u001b[0m\u001b[1;33m\u001b[0m\u001b[0m\n\u001b[0m",
      "\u001b[1;31mTypeError\u001b[0m: '<' not supported between instances of 'list' and 'int'"
     ]
    }
   ],
   "source": [
    "list(a[1])<8"
   ]
  },
  {
   "cell_type": "code",
   "execution_count": 39,
   "id": "732fdcd8",
   "metadata": {},
   "outputs": [],
   "source": [
    "candidates.sort()"
   ]
  },
  {
   "cell_type": "code",
   "execution_count": 40,
   "id": "34d8a585",
   "metadata": {},
   "outputs": [
    {
     "data": {
      "text/plain": [
       "[2, 3, 5]"
      ]
     },
     "execution_count": 40,
     "metadata": {},
     "output_type": "execute_result"
    }
   ],
   "source": [
    "candidates"
   ]
  },
  {
   "cell_type": "code",
   "execution_count": 26,
   "id": "039c8f1a",
   "metadata": {},
   "outputs": [
    {
     "data": {
      "text/plain": [
       "0"
      ]
     },
     "execution_count": 26,
     "metadata": {},
     "output_type": "execute_result"
    }
   ],
   "source": [
    "sum(list(a[0]))"
   ]
  },
  {
   "cell_type": "code",
   "execution_count": 41,
   "id": "8d4817c1",
   "metadata": {},
   "outputs": [],
   "source": [
    "a=[2,1]\n",
    "b=[1,2]\n",
    "c=[a,[1,1]]"
   ]
  },
  {
   "cell_type": "code",
   "execution_count": 42,
   "id": "120ffc21",
   "metadata": {},
   "outputs": [
    {
     "data": {
      "text/plain": [
       "[[2, 1], [1, 1]]"
      ]
     },
     "execution_count": 42,
     "metadata": {},
     "output_type": "execute_result"
    }
   ],
   "source": [
    "c"
   ]
  },
  {
   "cell_type": "code",
   "execution_count": 43,
   "id": "c4ccf86a",
   "metadata": {},
   "outputs": [
    {
     "data": {
      "text/plain": [
       "True"
      ]
     },
     "execution_count": 43,
     "metadata": {},
     "output_type": "execute_result"
    }
   ],
   "source": [
    "a in c"
   ]
  },
  {
   "cell_type": "code",
   "execution_count": 44,
   "id": "d58de648",
   "metadata": {},
   "outputs": [
    {
     "data": {
      "text/plain": [
       "False"
      ]
     },
     "execution_count": 44,
     "metadata": {},
     "output_type": "execute_result"
    }
   ],
   "source": [
    "b in c"
   ]
  },
  {
   "cell_type": "code",
   "execution_count": null,
   "id": "e9072de4",
   "metadata": {},
   "outputs": [],
   "source": []
  },
  {
   "cell_type": "code",
   "execution_count": null,
   "id": "fedccc83",
   "metadata": {},
   "outputs": [],
   "source": []
  },
  {
   "cell_type": "code",
   "execution_count": 45,
   "id": "a115132b",
   "metadata": {},
   "outputs": [],
   "source": [
    "dp = [[] for _ in range(target + 1)]\n",
    "dp[0].append([])"
   ]
  },
  {
   "cell_type": "code",
   "execution_count": 46,
   "id": "de77a867",
   "metadata": {},
   "outputs": [
    {
     "data": {
      "text/plain": [
       "[[[]], [], [], [], [], [], [], [], []]"
      ]
     },
     "execution_count": 46,
     "metadata": {},
     "output_type": "execute_result"
    }
   ],
   "source": [
    "dp"
   ]
  },
  {
   "cell_type": "code",
   "execution_count": null,
   "id": "8a8e0a76",
   "metadata": {},
   "outputs": [],
   "source": []
  }
 ],
 "metadata": {
  "kernelspec": {
   "display_name": "Python 3 (ipykernel)",
   "language": "python",
   "name": "python3"
  },
  "language_info": {
   "codemirror_mode": {
    "name": "ipython",
    "version": 3
   },
   "file_extension": ".py",
   "mimetype": "text/x-python",
   "name": "python",
   "nbconvert_exporter": "python",
   "pygments_lexer": "ipython3",
   "version": "3.9.7"
  }
 },
 "nbformat": 4,
 "nbformat_minor": 5
}
