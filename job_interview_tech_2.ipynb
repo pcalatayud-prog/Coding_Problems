{
 "cells": [
  {
   "cell_type": "code",
   "execution_count": null,
   "id": "d61473e5",
   "metadata": {},
   "outputs": [],
   "source": []
  },
  {
   "cell_type": "code",
   "execution_count": null,
   "id": "a82815fa",
   "metadata": {},
   "outputs": [],
   "source": []
  },
  {
   "cell_type": "code",
   "execution_count": null,
   "id": "3bcd6f7b",
   "metadata": {},
   "outputs": [],
   "source": []
  },
  {
   "cell_type": "code",
   "execution_count": null,
   "id": "88689743",
   "metadata": {},
   "outputs": [],
   "source": []
  },
  {
   "cell_type": "code",
   "execution_count": 37,
   "id": "9c8b8adc",
   "metadata": {},
   "outputs": [],
   "source": [
    "a=[61,75]"
   ]
  },
  {
   "cell_type": "code",
   "execution_count": null,
   "id": "1238a02c",
   "metadata": {},
   "outputs": [],
   "source": []
  },
  {
   "cell_type": "code",
   "execution_count": 2,
   "id": "50869128",
   "metadata": {},
   "outputs": [
    {
     "data": {
      "text/plain": [
       "'61'"
      ]
     },
     "execution_count": 2,
     "metadata": {},
     "output_type": "execute_result"
    }
   ],
   "source": [
    "str(61)"
   ]
  },
  {
   "cell_type": "code",
   "execution_count": 3,
   "id": "afc37cb0",
   "metadata": {},
   "outputs": [
    {
     "data": {
      "text/plain": [
       "['6', '1']"
      ]
     },
     "execution_count": 3,
     "metadata": {},
     "output_type": "execute_result"
    }
   ],
   "source": [
    "list(\"61\")"
   ]
  },
  {
   "cell_type": "code",
   "execution_count": 31,
   "id": "f978d763",
   "metadata": {},
   "outputs": [],
   "source": [
    "def permutations(iterable, r=None):\n",
    "    pool = tuple(iterable)\n",
    "    n = len(pool)\n",
    "    r = n if r is None else r\n",
    "    if r > n:\n",
    "        return\n",
    "    indices = list(range(n))\n",
    "    cycles = list(range(n, n-r, -1))\n",
    "    yield list(pool[i] for i in indices[:r])\n",
    "    while n:\n",
    "        for i in reversed(range(r)):\n",
    "            cycles[i] -= 1\n",
    "            if cycles[i] == 0:\n",
    "                indices[i:] = indices[i+1:] + indices[i:i+1]\n",
    "                cycles[i] = n - i\n",
    "            else:\n",
    "                j = cycles[i]\n",
    "                indices[i], indices[-j] = indices[-j], indices[i]\n",
    "                yield list(pool[i] for i in indices[:r])\n",
    "                break\n",
    "        else:\n",
    "            return"
   ]
  },
  {
   "cell_type": "code",
   "execution_count": 55,
   "id": "f074c0e9",
   "metadata": {},
   "outputs": [],
   "source": [
    "lista=[]"
   ]
  },
  {
   "cell_type": "code",
   "execution_count": 60,
   "id": "f1ab8e07",
   "metadata": {},
   "outputs": [
    {
     "name": "stdout",
     "output_type": "stream",
     "text": [
      "[['0']]\n",
      "0\n",
      "[['1']]\n",
      "1\n"
     ]
    }
   ],
   "source": [
    "for i in range(0,len([61,75])):\n",
    "    i=list(str(i))\n",
    "    comb=list(permutations(i))\n",
    "    print(comb)#all combinations\n",
    "    output=\"NO\"\n",
    "    for j in comb:#for each combination from list of string to a number\n",
    "        number=\"\"\n",
    "        for k in j:\n",
    "            number=number+k\n",
    "        print(number)\n",
    "        if int(number)%8==0:\n",
    "            output=\"YES\"\n",
    "    lista.append(output)"
   ]
  },
  {
   "cell_type": "code",
   "execution_count": 61,
   "id": "d10ab95e",
   "metadata": {},
   "outputs": [
    {
     "data": {
      "text/plain": [
       "['YES', 'YES', 'NO']"
      ]
     },
     "execution_count": 61,
     "metadata": {},
     "output_type": "execute_result"
    }
   ],
   "source": [
    "lista"
   ]
  },
  {
   "cell_type": "code",
   "execution_count": null,
   "id": "0cfa9022",
   "metadata": {},
   "outputs": [],
   "source": []
  },
  {
   "cell_type": "code",
   "execution_count": 17,
   "id": "4d61819f",
   "metadata": {},
   "outputs": [
    {
     "data": {
      "text/plain": [
       "\"('7', '5')\""
      ]
     },
     "execution_count": 17,
     "metadata": {},
     "output_type": "execute_result"
    }
   ],
   "source": [
    "str(comb[0])"
   ]
  },
  {
   "cell_type": "code",
   "execution_count": null,
   "id": "6a9ae9a2",
   "metadata": {},
   "outputs": [],
   "source": []
  }
 ],
 "metadata": {
  "kernelspec": {
   "display_name": "Python 3 (ipykernel)",
   "language": "python",
   "name": "python3"
  },
  "language_info": {
   "codemirror_mode": {
    "name": "ipython",
    "version": 3
   },
   "file_extension": ".py",
   "mimetype": "text/x-python",
   "name": "python",
   "nbconvert_exporter": "python",
   "pygments_lexer": "ipython3",
   "version": "3.9.7"
  }
 },
 "nbformat": 4,
 "nbformat_minor": 5
}
