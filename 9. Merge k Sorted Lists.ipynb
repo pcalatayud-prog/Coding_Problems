{
 "cells": [
  {
   "cell_type": "code",
   "execution_count": null,
   "id": "5527db6b",
   "metadata": {},
   "outputs": [],
   "source": [
    "# You are given an array of k linked-lists lists, each linked-list is sorted in ascending order.\n",
    "\n",
    "# Merge all the linked-lists into one sorted linked-list and return it."
   ]
  },
  {
   "cell_type": "code",
   "execution_count": null,
   "id": "5c121418",
   "metadata": {},
   "outputs": [],
   "source": [
    "# Input: lists = [[1,4,5],[1,3,4],[2,6]]\n",
    "# Output: [1,1,2,3,4,4,5,6]\n",
    "# Explanation: The linked-lists are:\n",
    "# [\n",
    "#   1->4->5,\n",
    "#   1->3->4,\n",
    "#   2->6\n",
    "# ]\n",
    "# merging them into one sorted list:\n",
    "# 1->1->2->3->4->4->5->6"
   ]
  },
  {
   "cell_type": "code",
   "execution_count": 61,
   "id": "88664231",
   "metadata": {},
   "outputs": [],
   "source": [
    "list1=[1,4,5]\n",
    "list2=[1,3,4]\n",
    "list3=[2,3,3,6]\n",
    "\n",
    "lista=[list1,list2,list3]"
   ]
  },
  {
   "cell_type": "code",
   "execution_count": 62,
   "id": "16d821a9",
   "metadata": {},
   "outputs": [],
   "source": [
    "m=len(list1)+len(list2)+len(list3)"
   ]
  },
  {
   "cell_type": "code",
   "execution_count": 63,
   "id": "20b7bb89",
   "metadata": {},
   "outputs": [],
   "source": [
    "list_final=[]\n",
    "count=0\n",
    "while count<m:\n",
    "    minimo=10**10\n",
    "    count_del=-1\n",
    "    #Running the first position of each list\n",
    "    for i in range(0,len(lista)):\n",
    "        #print(lista)\n",
    "        #print(i)\n",
    "        if len(lista[i])>0:\n",
    "            if lista[i][0]<minimo:\n",
    "                count_del=i\n",
    "                minimo=lista[i][0]\n",
    "    list_final.append(minimo)\n",
    "    del lista[count_del][0]\n",
    "    count=count+1\n",
    "  \n",
    "        "
   ]
  },
  {
   "cell_type": "code",
   "execution_count": 64,
   "id": "30ad438f",
   "metadata": {},
   "outputs": [
    {
     "data": {
      "text/plain": [
       "[1, 1, 2, 3, 3, 3, 4, 4, 5, 6]"
      ]
     },
     "execution_count": 64,
     "metadata": {},
     "output_type": "execute_result"
    }
   ],
   "source": [
    "list_final"
   ]
  },
  {
   "cell_type": "code",
   "execution_count": 29,
   "id": "423a7e80",
   "metadata": {},
   "outputs": [
    {
     "data": {
      "text/plain": [
       "[]"
      ]
     },
     "execution_count": 29,
     "metadata": {},
     "output_type": "execute_result"
    }
   ],
   "source": [
    "lista[1]"
   ]
  },
  {
   "cell_type": "code",
   "execution_count": 30,
   "id": "9676f2fe",
   "metadata": {},
   "outputs": [
    {
     "data": {
      "text/plain": [
       "[6]"
      ]
     },
     "execution_count": 30,
     "metadata": {},
     "output_type": "execute_result"
    }
   ],
   "source": [
    "lista[2]"
   ]
  },
  {
   "cell_type": "code",
   "execution_count": 31,
   "id": "ca66a452",
   "metadata": {},
   "outputs": [
    {
     "data": {
      "text/plain": [
       "[]"
      ]
     },
     "execution_count": 31,
     "metadata": {},
     "output_type": "execute_result"
    }
   ],
   "source": [
    "list_final"
   ]
  },
  {
   "cell_type": "code",
   "execution_count": null,
   "id": "73272702",
   "metadata": {},
   "outputs": [],
   "source": []
  }
 ],
 "metadata": {
  "kernelspec": {
   "display_name": "Python 3 (ipykernel)",
   "language": "python",
   "name": "python3"
  },
  "language_info": {
   "codemirror_mode": {
    "name": "ipython",
    "version": 3
   },
   "file_extension": ".py",
   "mimetype": "text/x-python",
   "name": "python",
   "nbconvert_exporter": "python",
   "pygments_lexer": "ipython3",
   "version": "3.9.7"
  }
 },
 "nbformat": 4,
 "nbformat_minor": 5
}
