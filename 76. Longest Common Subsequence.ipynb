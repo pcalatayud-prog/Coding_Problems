{
 "cells": [
  {
   "cell_type": "code",
   "execution_count": null,
   "id": "961b8e25",
   "metadata": {},
   "outputs": [],
   "source": []
  },
  {
   "cell_type": "code",
   "execution_count": 30,
   "id": "deb0028c",
   "metadata": {},
   "outputs": [],
   "source": [
    "text1 = \"abcde\" \n",
    "text2 = \"ace\" "
   ]
  },
  {
   "cell_type": "code",
   "execution_count": 65,
   "id": "37f7f026",
   "metadata": {},
   "outputs": [],
   "source": [
    "#text1 = \"abcde\" \n",
    "#text2 = \"hg\" \n",
    "\n",
    "\n",
    "text1 = \"oxcpqrsvwf\"\n",
    "text2 = \"shmtulqrypy\""
   ]
  },
  {
   "cell_type": "code",
   "execution_count": 76,
   "id": "c636b556",
   "metadata": {},
   "outputs": [],
   "source": [
    "text1 = \"abcba\"\n",
    "text2 = \"abcbcba\""
   ]
  },
  {
   "cell_type": "code",
   "execution_count": 77,
   "id": "a1107016",
   "metadata": {},
   "outputs": [],
   "source": [
    "if len(text1)<len(text2):\n",
    "    short=text1\n",
    "    long=text2\n",
    "else:\n",
    "    short=text2\n",
    "    long=text1"
   ]
  },
  {
   "cell_type": "code",
   "execution_count": 78,
   "id": "6a051805",
   "metadata": {},
   "outputs": [],
   "source": [
    "list_index=[]\n",
    "for i in short:\n",
    "    try:\n",
    "        index_add=long.index(i)\n",
    "    except:\n",
    "        index_add = -1\n",
    "    list_index.append(index_add)"
   ]
  },
  {
   "cell_type": "code",
   "execution_count": 79,
   "id": "ad5107fa",
   "metadata": {},
   "outputs": [
    {
     "data": {
      "text/plain": [
       "[0, 1, 2, 1, 0]"
      ]
     },
     "execution_count": 79,
     "metadata": {},
     "output_type": "execute_result"
    }
   ],
   "source": [
    "list_index"
   ]
  },
  {
   "cell_type": "code",
   "execution_count": 80,
   "id": "4c1a1774",
   "metadata": {},
   "outputs": [],
   "source": [
    "list_index[:] = (value for value in list_index if value != -1)"
   ]
  },
  {
   "cell_type": "code",
   "execution_count": 81,
   "id": "04fd4c19",
   "metadata": {},
   "outputs": [
    {
     "data": {
      "text/plain": [
       "[0, 1, 2, 1, 0]"
      ]
     },
     "execution_count": 81,
     "metadata": {},
     "output_type": "execute_result"
    }
   ],
   "source": [
    "list_index"
   ]
  },
  {
   "cell_type": "code",
   "execution_count": 82,
   "id": "e1e75416",
   "metadata": {},
   "outputs": [],
   "source": [
    "count=1\n",
    "max_count=1\n",
    "for i in range(0,len(list_index)-1):\n",
    "    if list_index[i]<list_index[i+1]:\n",
    "        count=count+1\n",
    "        if count>max_count:\n",
    "            max_count=count\n",
    "    else:\n",
    "        count=1"
   ]
  },
  {
   "cell_type": "code",
   "execution_count": 83,
   "id": "5d978456",
   "metadata": {},
   "outputs": [
    {
     "data": {
      "text/plain": [
       "3"
      ]
     },
     "execution_count": 83,
     "metadata": {},
     "output_type": "execute_result"
    }
   ],
   "source": [
    "max_count"
   ]
  },
  {
   "cell_type": "code",
   "execution_count": 58,
   "id": "d6118d8b",
   "metadata": {},
   "outputs": [],
   "source": []
  }
 ],
 "metadata": {
  "kernelspec": {
   "display_name": "Python 3 (ipykernel)",
   "language": "python",
   "name": "python3"
  },
  "language_info": {
   "codemirror_mode": {
    "name": "ipython",
    "version": 3
   },
   "file_extension": ".py",
   "mimetype": "text/x-python",
   "name": "python",
   "nbconvert_exporter": "python",
   "pygments_lexer": "ipython3",
   "version": "3.9.7"
  }
 },
 "nbformat": 4,
 "nbformat_minor": 5
}
