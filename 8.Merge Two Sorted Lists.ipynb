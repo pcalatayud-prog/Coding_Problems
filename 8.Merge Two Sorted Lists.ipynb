{
 "cells": [
  {
   "cell_type": "code",
   "execution_count": null,
   "id": "49d8ffb3",
   "metadata": {},
   "outputs": [],
   "source": [
    "# You are given the heads of two sorted linked lists list1 and list2.\n",
    "\n",
    "# Merge the two lists in a one sorted list. The list should be made by splicing together the nodes of the first two lists.\n",
    "\n",
    "# Return the head of the merged linked list"
   ]
  },
  {
   "cell_type": "code",
   "execution_count": null,
   "id": "d3b9eac5",
   "metadata": {},
   "outputs": [],
   "source": [
    "# Input: list1 = [1,2,4], list2 = [1,3,4]\n",
    "# Output: [1,1,2,3,4,4]"
   ]
  },
  {
   "cell_type": "code",
   "execution_count": 63,
   "id": "d3ac55b3",
   "metadata": {},
   "outputs": [],
   "source": [
    "list1=[1,2,4,2,2,5]\n",
    "list2=[1,3,4,5,3,4,2]\n",
    "list3=[]"
   ]
  },
  {
   "cell_type": "code",
   "execution_count": 64,
   "id": "a00d8284",
   "metadata": {},
   "outputs": [
    {
     "name": "stdout",
     "output_type": "stream",
     "text": [
      "[1, 1, 2, 2, 2, 2, 3, 3, 4, 4, 4, 5, 5]\n"
     ]
    }
   ],
   "source": [
    "list3=[]\n",
    "list1.sort()\n",
    "list2.sort()\n",
    "while list1 is not None and list2 is not None:\n",
    "    a=list2[0]\n",
    "    b=list1[0]\n",
    "\n",
    "    #print(list_long,list_short) \n",
    "    \n",
    "    if a<=b:\n",
    "        list3.append(a)\n",
    "        del list2[0]\n",
    "    else:\n",
    "        list3.append(b)\n",
    "        del list1[0]\n",
    "        \n",
    "    if len(list1)<1:\n",
    "        for i in list2:\n",
    "            list3.append(i)\n",
    "        break\n",
    "    \n",
    "    if len(list2)<1:\n",
    "        for i in list1:\n",
    "            list3.append(i)\n",
    "        break\n",
    "        \n",
    "print(list3)\n",
    "  \n",
    "        "
   ]
  },
  {
   "cell_type": "code",
   "execution_count": null,
   "id": "70688551",
   "metadata": {},
   "outputs": [],
   "source": []
  },
  {
   "cell_type": "code",
   "execution_count": null,
   "id": "96f9a3cb",
   "metadata": {},
   "outputs": [],
   "source": []
  },
  {
   "cell_type": "code",
   "execution_count": null,
   "id": "d43c481f",
   "metadata": {},
   "outputs": [],
   "source": []
  }
 ],
 "metadata": {
  "kernelspec": {
   "display_name": "Python 3 (ipykernel)",
   "language": "python",
   "name": "python3"
  },
  "language_info": {
   "codemirror_mode": {
    "name": "ipython",
    "version": 3
   },
   "file_extension": ".py",
   "mimetype": "text/x-python",
   "name": "python",
   "nbconvert_exporter": "python",
   "pygments_lexer": "ipython3",
   "version": "3.9.7"
  }
 },
 "nbformat": 4,
 "nbformat_minor": 5
}
