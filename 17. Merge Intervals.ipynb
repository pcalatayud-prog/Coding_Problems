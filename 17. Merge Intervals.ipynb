{
 "cells": [
  {
   "cell_type": "code",
   "execution_count": null,
   "id": "7e751869",
   "metadata": {},
   "outputs": [],
   "source": [
    "# Input: intervals = [[1,3],[2,6],[8,10],[15,18]]\n",
    "# Output: [[1,6],[8,10],[15,18]]\n",
    "# Explanation: Since intervals [1,3] and [2,6] overlap, merge them into [1,6]."
   ]
  },
  {
   "cell_type": "code",
   "execution_count": null,
   "id": "73156504",
   "metadata": {},
   "outputs": [],
   "source": [
    "# Input: intervals = [[1,4],[4,5]]\n",
    "# Output: [[1,5]]\n",
    "# Explanation: Intervals [1,4] and [4,5] are considered overlapping."
   ]
  },
  {
   "cell_type": "code",
   "execution_count": null,
   "id": "2df5729b",
   "metadata": {},
   "outputs": [],
   "source": []
  },
  {
   "cell_type": "code",
   "execution_count": 170,
   "id": "ff593377",
   "metadata": {},
   "outputs": [],
   "source": [
    "intervals = [[1,3],[2,6],[8,10],[15,18]]"
   ]
  },
  {
   "cell_type": "code",
   "execution_count": 67,
   "id": "b2e9705f",
   "metadata": {},
   "outputs": [],
   "source": [
    "intervals = [[1,4],[4,5]]"
   ]
  },
  {
   "cell_type": "code",
   "execution_count": 123,
   "id": "d54c64a1",
   "metadata": {},
   "outputs": [],
   "source": [
    "intervals = [[1,4],[0,4]]"
   ]
  },
  {
   "cell_type": "code",
   "execution_count": 109,
   "id": "a3e0bc17",
   "metadata": {},
   "outputs": [],
   "source": [
    "intervals = [[1,4],[2,3]]"
   ]
  },
  {
   "cell_type": "code",
   "execution_count": 163,
   "id": "ad53dea7",
   "metadata": {},
   "outputs": [],
   "source": [
    "intervals = [[0,0],[1,4]]"
   ]
  },
  {
   "cell_type": "code",
   "execution_count": 178,
   "id": "5da62498",
   "metadata": {},
   "outputs": [],
   "source": [
    "intervals = [[1,4],[0,2],[3,5]]"
   ]
  },
  {
   "cell_type": "code",
   "execution_count": 179,
   "id": "609554ef",
   "metadata": {},
   "outputs": [],
   "source": [
    "intervals.sort()"
   ]
  },
  {
   "cell_type": "code",
   "execution_count": 180,
   "id": "83538058",
   "metadata": {},
   "outputs": [],
   "source": [
    "flat_intervals = [item for sublist in intervals for item in sublist]"
   ]
  },
  {
   "cell_type": "code",
   "execution_count": 181,
   "id": "0e776215",
   "metadata": {},
   "outputs": [
    {
     "data": {
      "text/plain": [
       "[0, 2, 1, 4, 3, 5]"
      ]
     },
     "execution_count": 181,
     "metadata": {},
     "output_type": "execute_result"
    }
   ],
   "source": [
    "flat_intervals"
   ]
  },
  {
   "cell_type": "code",
   "execution_count": 182,
   "id": "87ad876b",
   "metadata": {},
   "outputs": [],
   "source": [
    "#flat_intervals.pop(3)"
   ]
  },
  {
   "cell_type": "code",
   "execution_count": 183,
   "id": "7bede8be",
   "metadata": {},
   "outputs": [
    {
     "name": "stdout",
     "output_type": "stream",
     "text": [
      "1 3\n",
      "1 3\n",
      "[0, 5]\n"
     ]
    }
   ],
   "source": [
    "i=1\n",
    "while i<len(flat_intervals)-2:\n",
    "    \n",
    "    if flat_intervals[i]>=flat_intervals[i+1]:\n",
    "        print(i,i+2)\n",
    "        #[0,4][1,4]\n",
    "        if flat_intervals[i]>=flat_intervals[i+2]:\n",
    "            #[1,4] [2,3]\n",
    "            \n",
    "            flat_intervals.pop(i+1)\n",
    "            flat_intervals.pop(i+1)\n",
    "            i=-1\n",
    "        else:\n",
    "            #[1,4],[2,5]\n",
    "            flat_intervals.pop(i)\n",
    "            flat_intervals.pop(i)\n",
    "            i=-1\n",
    "        #print(i,i+1)\n",
    "    i=i+2\n",
    "print(flat_intervals)"
   ]
  },
  {
   "cell_type": "code",
   "execution_count": 176,
   "id": "a6a37287",
   "metadata": {},
   "outputs": [
    {
     "name": "stdout",
     "output_type": "stream",
     "text": [
      "[[1, 6], [8, 10], [15, 18]]\n"
     ]
    }
   ],
   "source": [
    "newList = []\n",
    "for i in range(0,len(flat_intervals),2):\n",
    "    newList.append([flat_intervals[i], flat_intervals[i+1]])\n",
    "print(newList)"
   ]
  },
  {
   "cell_type": "code",
   "execution_count": null,
   "id": "617a36cf",
   "metadata": {},
   "outputs": [],
   "source": []
  },
  {
   "cell_type": "code",
   "execution_count": null,
   "id": "19b14966",
   "metadata": {},
   "outputs": [],
   "source": []
  },
  {
   "cell_type": "code",
   "execution_count": null,
   "id": "f1169f83",
   "metadata": {},
   "outputs": [],
   "source": []
  },
  {
   "cell_type": "code",
   "execution_count": null,
   "id": "dca23103",
   "metadata": {},
   "outputs": [],
   "source": []
  },
  {
   "cell_type": "code",
   "execution_count": null,
   "id": "b69919fd",
   "metadata": {},
   "outputs": [],
   "source": []
  },
  {
   "cell_type": "code",
   "execution_count": null,
   "id": "28d7649c",
   "metadata": {},
   "outputs": [],
   "source": []
  },
  {
   "cell_type": "code",
   "execution_count": null,
   "id": "b5e21414",
   "metadata": {},
   "outputs": [],
   "source": []
  },
  {
   "cell_type": "code",
   "execution_count": null,
   "id": "aac683db",
   "metadata": {},
   "outputs": [],
   "source": []
  },
  {
   "cell_type": "code",
   "execution_count": null,
   "id": "fb10dd17",
   "metadata": {},
   "outputs": [],
   "source": []
  },
  {
   "cell_type": "code",
   "execution_count": null,
   "id": "49163a20",
   "metadata": {},
   "outputs": [],
   "source": []
  }
 ],
 "metadata": {
  "kernelspec": {
   "display_name": "Python 3 (ipykernel)",
   "language": "python",
   "name": "python3"
  },
  "language_info": {
   "codemirror_mode": {
    "name": "ipython",
    "version": 3
   },
   "file_extension": ".py",
   "mimetype": "text/x-python",
   "name": "python",
   "nbconvert_exporter": "python",
   "pygments_lexer": "ipython3",
   "version": "3.9.7"
  }
 },
 "nbformat": 4,
 "nbformat_minor": 5
}
