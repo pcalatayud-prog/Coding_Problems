{
 "cells": [
  {
   "cell_type": "code",
   "execution_count": null,
   "id": "95502e81",
   "metadata": {},
   "outputs": [],
   "source": [
    "def lengthOfLongestSubstring(self, s: str) -> int:\n",
    "#s=\"abcabcbb\"\n",
    "#s = \"bbbbb\"\n",
    "#s = \"pwwkew\"\n",
    "    string=\"\"\n",
    "    largest=\"\"\n",
    "    for i in range(0,len(s)):\n",
    "        string=\"\"\n",
    "        j=i\n",
    "        a=s[j]\n",
    "        while a not in string:\n",
    "            string=string+a\n",
    "\n",
    "            if len(string)>len(largest):\n",
    "                largest=string\n",
    "\n",
    "            j=j+1\n",
    "\n",
    "            if (j>len(s)-1):\n",
    "                break\n",
    "            else:\n",
    "                a=s[j]\n",
    "\n",
    "    return(len(largest))"
   ]
  }
 ],
 "metadata": {
  "kernelspec": {
   "display_name": "Python 3 (ipykernel)",
   "language": "python",
   "name": "python3"
  },
  "language_info": {
   "codemirror_mode": {
    "name": "ipython",
    "version": 3
   },
   "file_extension": ".py",
   "mimetype": "text/x-python",
   "name": "python",
   "nbconvert_exporter": "python",
   "pygments_lexer": "ipython3",
   "version": "3.9.7"
  }
 },
 "nbformat": 4,
 "nbformat_minor": 5
}
