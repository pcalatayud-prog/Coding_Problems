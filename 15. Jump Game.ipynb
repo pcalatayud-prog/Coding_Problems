{
 "cells": [
  {
   "cell_type": "code",
   "execution_count": null,
   "id": "a2d6c0bf",
   "metadata": {},
   "outputs": [],
   "source": []
  },
  {
   "cell_type": "code",
   "execution_count": 78,
   "id": "a8a6c40b",
   "metadata": {},
   "outputs": [],
   "source": [
    "nums = [3,2,1,0,4]"
   ]
  },
  {
   "cell_type": "code",
   "execution_count": 25,
   "id": "039149a5",
   "metadata": {},
   "outputs": [],
   "source": [
    "nums = [2,3,1,1,4]"
   ]
  },
  {
   "cell_type": "code",
   "execution_count": 92,
   "id": "f81a9b38",
   "metadata": {},
   "outputs": [],
   "source": [
    "nums = [2,0,1,0,1]"
   ]
  },
  {
   "cell_type": "code",
   "execution_count": 93,
   "id": "7f2322a0",
   "metadata": {},
   "outputs": [],
   "source": [
    "zeros = [i for i, e in enumerate(nums) if e == 0]"
   ]
  },
  {
   "cell_type": "code",
   "execution_count": 94,
   "id": "cfe114ab",
   "metadata": {},
   "outputs": [
    {
     "data": {
      "text/plain": [
       "[1, 3]"
      ]
     },
     "execution_count": 94,
     "metadata": {},
     "output_type": "execute_result"
    }
   ],
   "source": [
    "zeros"
   ]
  },
  {
   "cell_type": "code",
   "execution_count": 95,
   "id": "5e10bc29",
   "metadata": {},
   "outputs": [],
   "source": [
    "num_index=[]"
   ]
  },
  {
   "cell_type": "code",
   "execution_count": 96,
   "id": "dda97148",
   "metadata": {},
   "outputs": [],
   "source": [
    "for i in range(0,len(nums)):\n",
    "    num_index.append(i+nums[i])"
   ]
  },
  {
   "cell_type": "code",
   "execution_count": 97,
   "id": "0201a3ff",
   "metadata": {},
   "outputs": [
    {
     "data": {
      "text/plain": [
       "[2, 1, 3, 3, 5]"
      ]
     },
     "execution_count": 97,
     "metadata": {},
     "output_type": "execute_result"
    }
   ],
   "source": [
    "num_index"
   ]
  },
  {
   "cell_type": "code",
   "execution_count": 100,
   "id": "06358ccf",
   "metadata": {},
   "outputs": [
    {
     "data": {
      "text/plain": [
       "[2, 0, 1, 0, 1]"
      ]
     },
     "execution_count": 100,
     "metadata": {},
     "output_type": "execute_result"
    }
   ],
   "source": [
    "nums"
   ]
  },
  {
   "cell_type": "code",
   "execution_count": 99,
   "id": "3005d043",
   "metadata": {},
   "outputs": [
    {
     "name": "stdout",
     "output_type": "stream",
     "text": [
      "1 2\n",
      "3 2\n",
      "3 1\n",
      "3 3\n",
      "3 3\n",
      "True\n"
     ]
    }
   ],
   "source": [
    "if len(zeros)>0:\n",
    "    code = False\n",
    "    for i in zeros:\n",
    "        index=0\n",
    "        while index<=i:\n",
    "            print(i,num_index[index])\n",
    "            if num_index[index]>i:\n",
    "                code = True\n",
    "                break\n",
    "            index=index+1\n",
    "            \n",
    "else: #There is not 0. Always it is possible to jump\n",
    "    code=True\n",
    "print(code)\n",
    "        "
   ]
  },
  {
   "cell_type": "code",
   "execution_count": null,
   "id": "a549eb56",
   "metadata": {},
   "outputs": [],
   "source": []
  },
  {
   "cell_type": "code",
   "execution_count": null,
   "id": "467294df",
   "metadata": {},
   "outputs": [],
   "source": []
  }
 ],
 "metadata": {
  "kernelspec": {
   "display_name": "Python 3 (ipykernel)",
   "language": "python",
   "name": "python3"
  },
  "language_info": {
   "codemirror_mode": {
    "name": "ipython",
    "version": 3
   },
   "file_extension": ".py",
   "mimetype": "text/x-python",
   "name": "python",
   "nbconvert_exporter": "python",
   "pygments_lexer": "ipython3",
   "version": "3.9.7"
  }
 },
 "nbformat": 4,
 "nbformat_minor": 5
}
