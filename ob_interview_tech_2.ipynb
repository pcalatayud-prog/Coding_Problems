{
 "cells": [
  {
   "cell_type": "code",
   "execution_count": null,
   "id": "6267deef",
   "metadata": {},
   "outputs": [],
   "source": []
  },
  {
   "cell_type": "code",
   "execution_count": null,
   "id": "5a5f27bb",
   "metadata": {},
   "outputs": [],
   "source": [
    "import numpy as np"
   ]
  },
  {
   "cell_type": "code",
   "execution_count": 108,
   "id": "efe729ca",
   "metadata": {},
   "outputs": [],
   "source": [
    "x=[1,2,3,4,5,6,7]\n",
    "y=[2,0,2,2,0,4,2]\n",
    "k=5"
   ]
  },
  {
   "cell_type": "code",
   "execution_count": 109,
   "id": "4909fe53",
   "metadata": {},
   "outputs": [
    {
     "name": "stdout",
     "output_type": "stream",
     "text": [
      "36\n"
     ]
    }
   ],
   "source": [
    "# Write your code here\n",
    "n=len(x)\n",
    "\n",
    "#Selecting the k points to surround to get the minimun area.\n",
    "x_0=sum(x)/n\n",
    "y_0=sum(y)/n\n",
    "dist=[]\n",
    "for i in range(0,n):\n",
    "    dist.append(((x[i]-x_0)**2) + ((y[i]-y_0)**2)**0.5)\n",
    "    \n",
    "points_in_x=[]\n",
    "points_in_y=[]\n",
    "\n",
    "for i in range(0,k):\n",
    "    #Getting the closest point\n",
    "    index_min = np.argmin(dist)\n",
    "    points_in_x.append(x[index_min])\n",
    "    points_in_y.append(y[index_min])\n",
    "    #Removing added points\n",
    "    dist.remove(dist[index_min])\n",
    "    x.remove(x[index_min])\n",
    "    y.remove(y[index_min])\n",
    "    \n",
    "width=(np.max(points_in_x)+1)-(np.min(points_in_x)-1)\n",
    "height=(np.max(points_in_y)+1)-(np.min(points_in_y)-1)\n",
    "print(width*height)"
   ]
  },
  {
   "cell_type": "code",
   "execution_count": 74,
   "id": "33f1f75f",
   "metadata": {},
   "outputs": [
    {
     "data": {
      "text/plain": [
       "[1, 7]"
      ]
     },
     "execution_count": 74,
     "metadata": {},
     "output_type": "execute_result"
    }
   ],
   "source": [
    "x"
   ]
  },
  {
   "cell_type": "code",
   "execution_count": 75,
   "id": "02156b86",
   "metadata": {},
   "outputs": [
    {
     "data": {
      "text/plain": [
       "[2, 2]"
      ]
     },
     "execution_count": 75,
     "metadata": {},
     "output_type": "execute_result"
    }
   ],
   "source": [
    "y"
   ]
  },
  {
   "cell_type": "code",
   "execution_count": 76,
   "id": "29e54d5e",
   "metadata": {},
   "outputs": [
    {
     "name": "stdout",
     "output_type": "stream",
     "text": [
      "36\n"
     ]
    }
   ],
   "source": [
    "#To surround the points...\n",
    "def area(points_in_x,points_in_y,x_0,y_0):\n",
    "    width=(np.max(points_in_x)+1)-(np.min(points_in_x)-1)\n",
    "    height=(np.max(points_in_y)+1)-(np.min(points_in_y)-1)\n",
    "    return(width*height)"
   ]
  },
  {
   "cell_type": "code",
   "execution_count": 36,
   "id": "d53f7d7a",
   "metadata": {},
   "outputs": [
    {
     "data": {
      "text/plain": [
       "[4, 3, 2, 1, 5, 6, 7]"
      ]
     },
     "execution_count": 36,
     "metadata": {},
     "output_type": "execute_result"
    }
   ],
   "source": [
    "points_in_x"
   ]
  },
  {
   "cell_type": "code",
   "execution_count": 37,
   "id": "dc81b417",
   "metadata": {},
   "outputs": [
    {
     "data": {
      "text/plain": [
       "[2, 2, 2, 0, 0, 4, 2]"
      ]
     },
     "execution_count": 37,
     "metadata": {},
     "output_type": "execute_result"
    }
   ],
   "source": [
    "points_in_y"
   ]
  },
  {
   "cell_type": "code",
   "execution_count": null,
   "id": "2dac6a66",
   "metadata": {},
   "outputs": [],
   "source": []
  },
  {
   "cell_type": "code",
   "execution_count": 33,
   "id": "c7255899",
   "metadata": {},
   "outputs": [
    {
     "data": {
      "text/plain": [
       "1"
      ]
     },
     "execution_count": 33,
     "metadata": {},
     "output_type": "execute_result"
    }
   ],
   "source": [
    "np.min(points_in_x)"
   ]
  },
  {
   "cell_type": "code",
   "execution_count": 46,
   "id": "0fc3d10f",
   "metadata": {},
   "outputs": [
    {
     "data": {
      "text/plain": [
       "4.0"
      ]
     },
     "execution_count": 46,
     "metadata": {},
     "output_type": "execute_result"
    }
   ],
   "source": [
    "x_0"
   ]
  },
  {
   "cell_type": "code",
   "execution_count": 47,
   "id": "381232f5",
   "metadata": {},
   "outputs": [
    {
     "data": {
      "text/plain": [
       "1.7142857142857142"
      ]
     },
     "execution_count": 47,
     "metadata": {},
     "output_type": "execute_result"
    }
   ],
   "source": [
    "y_0"
   ]
  },
  {
   "cell_type": "code",
   "execution_count": null,
   "id": "3e5bdf48",
   "metadata": {},
   "outputs": [],
   "source": []
  },
  {
   "cell_type": "code",
   "execution_count": 114,
   "id": "0f6371e8",
   "metadata": {},
   "outputs": [],
   "source": [
    "x=[1,2,3,4,5,6,7]\n",
    "y=[2,0,2,2,0,4,2]\n",
    "k=5"
   ]
  },
  {
   "cell_type": "code",
   "execution_count": 115,
   "id": "801ecb57",
   "metadata": {},
   "outputs": [
    {
     "name": "stdout",
     "output_type": "stream",
     "text": [
      "32\n"
     ]
    }
   ],
   "source": [
    "import numpy as np\n",
    "\n",
    "#def minArea(x, y, k):\n",
    "# Write your code here\n",
    "\n",
    "#Create a function to calculate the area\n",
    "def calculate_area(points_in_x,points_in_y):\n",
    "    width=(np.max(points_in_x)+1)-(np.min(points_in_x)-1)\n",
    "    height=(np.max(points_in_y)+1)-(np.min(points_in_y)-1)\n",
    "    return(width*height)\n",
    "\n",
    "n=len(x)\n",
    "\n",
    "#It is necessary to start with a point. I want to start with the closest point\n",
    "#to all\n",
    "x_0=sum(x)/n\n",
    "y_0=sum(y)/n\n",
    "dist=[]\n",
    "for i in range(0,n):\n",
    "    dist.append(((x[i]-x_0)**2) + ((y[i]-y_0)**2)**0.5)\n",
    "\n",
    "points_in_x=[]\n",
    "points_in_y=[]\n",
    "\n",
    "#Getting the closest point to start\n",
    "index_min = np.argmin(dist)\n",
    "points_in_x.append(x[index_min])\n",
    "points_in_y.append(y[index_min])\n",
    "\n",
    "#Removing added points\n",
    "dist.remove(dist[index_min])\n",
    "x.remove(x[index_min])\n",
    "y.remove(y[index_min])\n",
    "#\n",
    "while len(points_in_x)<=k:\n",
    "    minArea=10**10\n",
    "    index=\"a\"\n",
    "    #Calculating the point that add less area\n",
    "    i=0\n",
    "    while len(x)>0 and i<len(x):\n",
    "        \n",
    "        #print(x,i)\n",
    "        area=calculate_area(points_in_x+[x[i]],points_in_y+[y[i]])\n",
    "        if area<minArea:\n",
    "            minArea=area\n",
    "            index=i\n",
    "        i=i+1\n",
    "    #Adding the point\n",
    "    #print(x,index)\n",
    "    points_in_x.append(x[index])\n",
    "    points_in_y.append(y[index])\n",
    "    #Removing added points\n",
    "    dist.remove(dist[index])\n",
    "    x.remove(x[index])\n",
    "    y.remove(y[index])\n",
    "\n",
    "print(calculate_area(points_in_x,points_in_y))\n",
    "\n"
   ]
  },
  {
   "cell_type": "code",
   "execution_count": 110,
   "id": "6e1ce0fd",
   "metadata": {},
   "outputs": [
    {
     "data": {
      "text/plain": [
       "[2, 2, 0, 0, 4]"
      ]
     },
     "execution_count": 110,
     "metadata": {},
     "output_type": "execute_result"
    }
   ],
   "source": [
    "points_in_y"
   ]
  },
  {
   "cell_type": "code",
   "execution_count": 111,
   "id": "4e05cb04",
   "metadata": {},
   "outputs": [
    {
     "data": {
      "text/plain": [
       "[4, 3, 5, 2, 6]"
      ]
     },
     "execution_count": 111,
     "metadata": {},
     "output_type": "execute_result"
    }
   ],
   "source": [
    "points_in_x"
   ]
  },
  {
   "cell_type": "code",
   "execution_count": 92,
   "id": "64eef90e",
   "metadata": {},
   "outputs": [
    {
     "data": {
      "text/plain": [
       "[2, 4, 2, -1]"
      ]
     },
     "execution_count": 92,
     "metadata": {},
     "output_type": "execute_result"
    }
   ],
   "source": [
    "y+[-1]"
   ]
  },
  {
   "cell_type": "code",
   "execution_count": 84,
   "id": "6258d5fe",
   "metadata": {},
   "outputs": [
    {
     "data": {
      "text/plain": [
       "[2]"
      ]
     },
     "execution_count": 84,
     "metadata": {},
     "output_type": "execute_result"
    }
   ],
   "source": [
    "points_in_y"
   ]
  },
  {
   "cell_type": "code",
   "execution_count": 85,
   "id": "6785890c",
   "metadata": {},
   "outputs": [
    {
     "data": {
      "text/plain": [
       "[4, 2]"
      ]
     },
     "execution_count": 85,
     "metadata": {},
     "output_type": "execute_result"
    }
   ],
   "source": [
    "points_in_x+points_in_y"
   ]
  },
  {
   "cell_type": "code",
   "execution_count": null,
   "id": "5d65315d",
   "metadata": {},
   "outputs": [],
   "source": []
  }
 ],
 "metadata": {
  "kernelspec": {
   "display_name": "Python 3 (ipykernel)",
   "language": "python",
   "name": "python3"
  },
  "language_info": {
   "codemirror_mode": {
    "name": "ipython",
    "version": 3
   },
   "file_extension": ".py",
   "mimetype": "text/x-python",
   "name": "python",
   "nbconvert_exporter": "python",
   "pygments_lexer": "ipython3",
   "version": "3.9.7"
  }
 },
 "nbformat": 4,
 "nbformat_minor": 5
}
