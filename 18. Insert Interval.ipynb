{
 "cells": [
  {
   "cell_type": "code",
   "execution_count": null,
   "id": "d81606e0",
   "metadata": {},
   "outputs": [],
   "source": []
  },
  {
   "cell_type": "code",
   "execution_count": 11,
   "id": "19fb58fd",
   "metadata": {},
   "outputs": [],
   "source": [
    "intervals = [[1,3],[6,9]]"
   ]
  },
  {
   "cell_type": "code",
   "execution_count": 12,
   "id": "ca92d95e",
   "metadata": {},
   "outputs": [],
   "source": [
    "newInterval = [2,5]"
   ]
  },
  {
   "cell_type": "code",
   "execution_count": null,
   "id": "0f1dd00b",
   "metadata": {},
   "outputs": [],
   "source": []
  },
  {
   "cell_type": "code",
   "execution_count": 20,
   "id": "46d17d68",
   "metadata": {},
   "outputs": [],
   "source": [
    "intervals = [[1,2],[3,5],[6,7],[8,10],[12,16]]"
   ]
  },
  {
   "cell_type": "code",
   "execution_count": 21,
   "id": "0bbe50e3",
   "metadata": {},
   "outputs": [],
   "source": [
    "newInterval = [4,8]"
   ]
  },
  {
   "cell_type": "code",
   "execution_count": 22,
   "id": "f810e794",
   "metadata": {},
   "outputs": [],
   "source": [
    "intervals = intervals+[newInterval]"
   ]
  },
  {
   "cell_type": "code",
   "execution_count": 23,
   "id": "f2f7b94f",
   "metadata": {},
   "outputs": [],
   "source": [
    "intervals.sort()"
   ]
  },
  {
   "cell_type": "code",
   "execution_count": 24,
   "id": "9a046e97",
   "metadata": {},
   "outputs": [],
   "source": [
    "flat_intervals = [item for sublist in intervals for item in sublist]"
   ]
  },
  {
   "cell_type": "code",
   "execution_count": 25,
   "id": "45e065d9",
   "metadata": {},
   "outputs": [
    {
     "data": {
      "text/plain": [
       "[1, 2, 3, 5, 4, 8, 6, 7, 8, 10, 12, 16]"
      ]
     },
     "execution_count": 25,
     "metadata": {},
     "output_type": "execute_result"
    }
   ],
   "source": [
    "flat_intervals"
   ]
  },
  {
   "cell_type": "code",
   "execution_count": null,
   "id": "ff461ecc",
   "metadata": {},
   "outputs": [],
   "source": []
  },
  {
   "cell_type": "code",
   "execution_count": 26,
   "id": "2624c239",
   "metadata": {},
   "outputs": [
    {
     "name": "stdout",
     "output_type": "stream",
     "text": [
      "3 5\n",
      "3 5\n",
      "3 5\n",
      "[1, 2, 3, 10, 12, 16]\n"
     ]
    }
   ],
   "source": [
    "i=1\n",
    "while i<len(flat_intervals)-2:\n",
    "    \n",
    "    if flat_intervals[i]>=flat_intervals[i+1]:\n",
    "        print(i,i+2)\n",
    "        #[0,4][1,4]\n",
    "        if flat_intervals[i]>=flat_intervals[i+2]:\n",
    "            #[1,4] [2,3]\n",
    "            \n",
    "            flat_intervals.pop(i+1)\n",
    "            flat_intervals.pop(i+1)\n",
    "            i=-1\n",
    "        else:\n",
    "            #[1,4],[2,5]\n",
    "            flat_intervals.pop(i)\n",
    "            flat_intervals.pop(i)\n",
    "            i=-1\n",
    "        #print(i,i+1)\n",
    "    i=i+2\n",
    "print(flat_intervals)"
   ]
  },
  {
   "cell_type": "code",
   "execution_count": 27,
   "id": "a75ffcb5",
   "metadata": {},
   "outputs": [
    {
     "name": "stdout",
     "output_type": "stream",
     "text": [
      "[[1, 2], [3, 10], [12, 16]]\n"
     ]
    }
   ],
   "source": [
    "newList = []\n",
    "for i in range(0,len(flat_intervals),2):\n",
    "    newList.append([flat_intervals[i], flat_intervals[i+1]])\n",
    "print(newList)"
   ]
  },
  {
   "cell_type": "code",
   "execution_count": null,
   "id": "eb38f1eb",
   "metadata": {},
   "outputs": [],
   "source": []
  }
 ],
 "metadata": {
  "kernelspec": {
   "display_name": "Python 3 (ipykernel)",
   "language": "python",
   "name": "python3"
  },
  "language_info": {
   "codemirror_mode": {
    "name": "ipython",
    "version": 3
   },
   "file_extension": ".py",
   "mimetype": "text/x-python",
   "name": "python",
   "nbconvert_exporter": "python",
   "pygments_lexer": "ipython3",
   "version": "3.9.7"
  }
 },
 "nbformat": 4,
 "nbformat_minor": 5
}
