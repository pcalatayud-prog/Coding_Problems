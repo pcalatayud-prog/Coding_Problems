{
 "cells": [
  {
   "cell_type": "code",
   "execution_count": null,
   "id": "e146c802",
   "metadata": {},
   "outputs": [],
   "source": []
  },
  {
   "cell_type": "code",
   "execution_count": null,
   "id": "6c4d1a28",
   "metadata": {},
   "outputs": [],
   "source": []
  },
  {
   "cell_type": "code",
   "execution_count": null,
   "id": "c4131be0",
   "metadata": {},
   "outputs": [],
   "source": []
  },
  {
   "cell_type": "code",
   "execution_count": 54,
   "id": "da954736",
   "metadata": {},
   "outputs": [],
   "source": [
    "matrix=[[1,2,3],[4,5,6],[7,8,9]]\n",
    "\n",
    "\n",
    "######[[7,4,1],[8,5,2],[9,6,3]]"
   ]
  },
  {
   "cell_type": "code",
   "execution_count": 55,
   "id": "7e9fec28",
   "metadata": {},
   "outputs": [
    {
     "name": "stdout",
     "output_type": "stream",
     "text": [
      "[[7, 4, 1], [8, 5, 2], [9, 6, 3]]\n"
     ]
    }
   ],
   "source": [
    "matrix_0=[]\n",
    "n=len(matrix)\n",
    "\n",
    "for i in range(0,n):\n",
    "    #print(i)\n",
    "    lista=[]\n",
    "    count=2\n",
    "    while len(lista)<n:\n",
    "        lista.append(matrix[count][i])\n",
    "        count=count-1\n",
    "    matrix_0.append(lista)\n",
    "matrix=matrix_0\n",
    "print(matrix)"
   ]
  },
  {
   "cell_type": "code",
   "execution_count": 30,
   "id": "788f5bd9",
   "metadata": {},
   "outputs": [],
   "source": [
    "a=list(range(n,1))"
   ]
  },
  {
   "cell_type": "code",
   "execution_count": 16,
   "id": "8228ed9b",
   "metadata": {},
   "outputs": [
    {
     "data": {
      "text/plain": [
       "[]"
      ]
     },
     "execution_count": 16,
     "metadata": {},
     "output_type": "execute_result"
    }
   ],
   "source": [
    "a"
   ]
  },
  {
   "cell_type": "code",
   "execution_count": 36,
   "id": "72a3a975",
   "metadata": {},
   "outputs": [],
   "source": [
    "a=[1,2,3]"
   ]
  },
  {
   "cell_type": "code",
   "execution_count": 37,
   "id": "d61ef4df",
   "metadata": {},
   "outputs": [],
   "source": [
    "a.reverse()"
   ]
  },
  {
   "cell_type": "code",
   "execution_count": 38,
   "id": "ea40a2a2",
   "metadata": {},
   "outputs": [
    {
     "data": {
      "text/plain": [
       "[3, 2, 1]"
      ]
     },
     "execution_count": 38,
     "metadata": {},
     "output_type": "execute_result"
    }
   ],
   "source": [
    "a"
   ]
  },
  {
   "cell_type": "code",
   "execution_count": null,
   "id": "a00d409a",
   "metadata": {},
   "outputs": [],
   "source": []
  }
 ],
 "metadata": {
  "kernelspec": {
   "display_name": "Python 3 (ipykernel)",
   "language": "python",
   "name": "python3"
  },
  "language_info": {
   "codemirror_mode": {
    "name": "ipython",
    "version": 3
   },
   "file_extension": ".py",
   "mimetype": "text/x-python",
   "name": "python",
   "nbconvert_exporter": "python",
   "pygments_lexer": "ipython3",
   "version": "3.9.7"
  }
 },
 "nbformat": 4,
 "nbformat_minor": 5
}
